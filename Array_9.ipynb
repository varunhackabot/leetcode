{
  "nbformat": 4,
  "nbformat_minor": 0,
  "metadata": {
    "colab": {
      "name": "Array_9.ipynb",
      "provenance": []
    },
    "kernelspec": {
      "name": "python3",
      "display_name": "Python 3"
    },
    "language_info": {
      "name": "python"
    }
  },
  "cells": [
    {
      "cell_type": "code",
      "metadata": {
        "id": "VB29M-xXtXnA"
      },
      "source": [
        "#1108. Defanging an IP Address\n",
        "#SOLUTION\n",
        "class Solution:\n",
        "    def defangIPaddr(self, address: str) -> str:\n",
        "        return(address.replace(\".\",\"[.]\"))\n",
        "            "
      ],
      "execution_count": null,
      "outputs": []
    },
    {
      "cell_type": "code",
      "metadata": {
        "id": "GvNY22Futaz6"
      },
      "source": [
        "#1365. How Many Numbers Are Smaller Than the Current Number\n",
        "#SOLUTION\n",
        "class Solution:\n",
        "    def smallerNumbersThanCurrent(self, nums: List[int]) -> List[int]:\n",
        "        count =0\n",
        "        a = []\n",
        "        b = [0]*len(nums)\n",
        "        for i in range(len(nums)):\n",
        "            for j in range(len(nums)):\n",
        "                if(j!=i and nums[j]< nums[i]):\n",
        "                    count+= 1\n",
        "            a.append(count)\n",
        "        for i in range(1,len(a)):\n",
        "            b[i] = a[i]-a[i-1]\n",
        "        b[0] = a[0]\n",
        "        return(b)"
      ],
      "execution_count": null,
      "outputs": []
    },
    {
      "cell_type": "code",
      "metadata": {
        "id": "0xmEc1oXyRvO"
      },
      "source": [
        "#1281. Subtract the Product and Sum of Digits of an Integer\n",
        "class Solution:\n",
        "    def subtractProductAndSum(self, n: int) -> int:\n",
        "        i = 0\n",
        "        a = 0\n",
        "        b = 1\n",
        "        while(n!=0):\n",
        "            a = n%10\n",
        "            b *=a\n",
        "            i += a\n",
        "            n = n//10\n",
        "        return(b-i)"
      ],
      "execution_count": null,
      "outputs": []
    },
    {
      "cell_type": "code",
      "metadata": {
        "id": "inL93lG6UPlN"
      },
      "source": [
        "#1464. Maximum Product of Two Elements in an Array\n",
        "#SOLUTION\n",
        "class Solution:\n",
        "    def maxProduct(self, nums: List[int]) -> int:\n",
        "        nums.sort(reverse=True)\n",
        "        a = nums[0]-1\n",
        "        b = nums[1]-1\n",
        "        return(a*b)\n",
        "        "
      ],
      "execution_count": null,
      "outputs": []
    },
    {
      "cell_type": "code",
      "metadata": {
        "id": "bHZylDfcaG3n"
      },
      "source": [
        "#1395. Count Number of Teams\n",
        "#SOLUTION\n",
        "class Solution:\n",
        "    def numTeams(self, rating: List[int]) -> int:\n",
        "        a = 0\n",
        "        for  i in range(0,len(rating)):\n",
        "            for j in range(i+1,len(rating)):\n",
        "                for k in range(j+1,len(rating)):\n",
        "                    if((rating[i]<rating[j]<rating[k]) or (rating[i]>rating[j]>rating[k])):\n",
        "                        a+=1\n",
        "        return(a)\n",
        "        "
      ],
      "execution_count": null,
      "outputs": []
    }
  ]
}