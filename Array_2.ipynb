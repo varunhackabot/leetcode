{
  "nbformat": 4,
  "nbformat_minor": 0,
  "metadata": {
    "colab": {
      "name": "Array-2.ipynb",
      "provenance": []
    },
    "kernelspec": {
      "name": "python3",
      "display_name": "Python 3"
    },
    "language_info": {
      "name": "python"
    }
  },
  "cells": [
    {
      "cell_type": "code",
      "metadata": {
        "id": "v1yNJ6rxfPs1"
      },
      "source": [
        "#FIND HIGHEST ALTITUDE\n",
        "#SOLUTION\n",
        "class Solution:\n",
        "    def largestAltitude(self, gain: List[int]) -> int:\n",
        "        max_1 = 0\n",
        "        temp = 0\n",
        "        for i in gain:\n",
        "            temp+=i\n",
        "            max_1 = max(max_1,temp)\n",
        "        return(max_1)"
      ],
      "execution_count": null,
      "outputs": []
    },
    {
      "cell_type": "code",
      "metadata": {
        "id": "1ekitQiBpJdi"
      },
      "source": [
        "#Create Target Array in the Given Order\n",
        "#SOLUTION\n",
        "\n",
        "class Solution:\n",
        "    def createTargetArray(self, nums: List[int], index: List[int]) -> List[int]:\n",
        "        temp = []\n",
        "        for i in range(0,len(nums)):\n",
        "                temp.insert(index[i],nums[i])\n",
        "        return(temp)\n",
        "        "
      ],
      "execution_count": null,
      "outputs": []
    },
    {
      "cell_type": "code",
      "metadata": {
        "id": "KnrwP9mlpbp7"
      },
      "source": [
        "#Count Items Matching a Rule\n",
        "#SOLUTION\n",
        "class Solution:\n",
        "    def countMatches(self, items: List[List[str]], ruleKey: str, ruleValue: str) -> int:\n",
        "        a = {'type':0,'color':1,'name':2}\n",
        "        return(sum([1 for item in items if item[a[ruleKey]]==ruleValue]))"
      ],
      "execution_count": null,
      "outputs": []
    },
    {
      "cell_type": "code",
      "metadata": {
        "id": "QnwNDSPJpt3D"
      },
      "source": [
        "#XOR OPERATION IN ARRAY\n",
        "#SOLUTION\n",
        "class Solution:\n",
        "    def xorOperation(self, n: int, start: int) -> int:\n",
        "        a = [start+2*i for i in range(n)] \n",
        "        xor = 0\n",
        "        for i in range(len(a)):\n",
        "            if(i==0):\n",
        "                xor = a[0]\n",
        "            else:\n",
        "                xor ^=a[i]\n",
        "        return(xor)"
      ],
      "execution_count": null,
      "outputs": []
    },
    {
      "cell_type": "code",
      "metadata": {
        "id": "Qs2VNjuup1Ud"
      },
      "source": [
        "#SUM ALL ODD LENGTH SUBARRAY\n",
        "#SOLUTION\n",
        "class Solution:\n",
        "    def sumOddLengthSubarrays(self, arr: List[int]) -> int:\n",
        "        s = 0\n",
        "        l = len(arr)\n",
        "        for i in range(l):\n",
        "            for j in range(i,l,2):\n",
        "                s+=sum(arr[i:j+1])\n",
        "        return(s)\n",
        "                "
      ],
      "execution_count": null,
      "outputs": []
    },
    {
      "cell_type": "code",
      "metadata": {
        "id": "6Lqv18UDqCYO"
      },
      "source": [
        "#COUNT GOOD TRIPLETS\n",
        "#SOLUTION\n",
        "class Solution:\n",
        "    def countGoodTriplets(self, arr: List[int], a: int, b: int, c: int) -> int:\n",
        "        count = 0\n",
        "        for i in range(len(arr)):\n",
        "            for j in range(i+1,len(arr)):\n",
        "                for k in range(j+1,len(arr)):\n",
        "                    if(abs(arr[i]-arr[j])<=a):\n",
        "                        if(abs(arr[j]-arr[k])<=b):\n",
        "                            if(abs(arr[i]-arr[k])<=c):\n",
        "                                count+=1\n",
        "        return(count)"
      ],
      "execution_count": null,
      "outputs": []
    }
  ]
}