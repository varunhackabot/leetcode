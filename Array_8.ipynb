{
  "nbformat": 4,
  "nbformat_minor": 0,
  "metadata": {
    "colab": {
      "name": "Array_8.ipynb",
      "provenance": []
    },
    "kernelspec": {
      "name": "python3",
      "display_name": "Python 3"
    },
    "language_info": {
      "name": "python"
    }
  },
  "cells": [
    {
      "cell_type": "code",
      "metadata": {
        "id": "VB29M-xXtXnA"
      },
      "source": [
        "#FIBONACCI NUMBERS\n",
        "#SOLUTION\n",
        "class Solution:\n",
        "    def fib(self, n: int) -> int:\n",
        "        if(n<=1):\n",
        "            return n\n",
        "        else:\n",
        "            return self.fib(n-1)+self.fib(n-2)"
      ],
      "execution_count": 1,
      "outputs": []
    },
    {
      "cell_type": "code",
      "metadata": {
        "id": "GvNY22Futaz6"
      },
      "source": [
        "#FIND WORDS THAT CAN BE FORMED BY CHARACTERS\n",
        "#SOLUTION\n",
        "class Solution:\n",
        "    def countCharacters(self, words: List[str], chars: str) -> int:\n",
        "        count = 0\n",
        "        l = 0\n",
        "        for i in words:\n",
        "            for j in i:\n",
        "                if(i.count(j)>chars.count(j)):\n",
        "                    break\n",
        "            else:\n",
        "                count += len(i)\n",
        "        return(count)"
      ],
      "execution_count": 2,
      "outputs": []
    },
    {
      "cell_type": "code",
      "metadata": {
        "id": "0xmEc1oXyRvO"
      },
      "source": [
        ""
      ],
      "execution_count": null,
      "outputs": []
    }
  ]
}