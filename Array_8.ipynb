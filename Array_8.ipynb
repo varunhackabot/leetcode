{
  "nbformat": 4,
  "nbformat_minor": 0,
  "metadata": {
    "colab": {
      "name": "Array_8.ipynb",
      "provenance": []
    },
    "kernelspec": {
      "name": "python3",
      "display_name": "Python 3"
    },
    "language_info": {
      "name": "python"
    }
  },
  "cells": [
    {
      "cell_type": "code",
      "metadata": {
        "id": "VB29M-xXtXnA"
      },
      "source": [
        "#FIBONACCI NUMBERS\n",
        "#SOLUTION\n",
        "class Solution:\n",
        "    def fib(self, n: int) -> int:\n",
        "        if(n<=1):\n",
        "            return n\n",
        "        else:\n",
        "            return self.fib(n-1)+self.fib(n-2)"
      ],
      "execution_count": null,
      "outputs": []
    },
    {
      "cell_type": "code",
      "metadata": {
        "id": "GvNY22Futaz6"
      },
      "source": [
        "#FIND WORDS THAT CAN BE FORMED BY CHARACTERS\n",
        "#SOLUTION\n",
        "class Solution:\n",
        "    def countCharacters(self, words: List[str], chars: str) -> int:\n",
        "        count = 0\n",
        "        l = 0\n",
        "        for i in words:\n",
        "            for j in i:\n",
        "                if(i.count(j)>chars.count(j)):\n",
        "                    break\n",
        "            else:\n",
        "                count += len(i)\n",
        "        return(count)"
      ],
      "execution_count": null,
      "outputs": []
    },
    {
      "cell_type": "code",
      "metadata": {
        "id": "0xmEc1oXyRvO"
      },
      "source": [
        "#MINIMUM ABSOLUTE DIFFERENCE\n",
        "class Solution:\n",
        "    def minimumAbsDifference(self, arr: List[int]) -> List[List[int]]:\n",
        "        a = sorted(arr)\n",
        "        k = []\n",
        "        minimum = abs(a[1]-a[0])\n",
        "        for i in range(2,len(a)):\n",
        "            temp = abs(a[i]-a[i-1])\n",
        "            if(temp<minimum):\n",
        "                minimum = temp\n",
        "        for i in range(len(arr)-1):\n",
        "            l=[]\n",
        "            if abs(arr[i]-arr[i-1])==minimum:\n",
        "                l.append(arr[i-1])\n",
        "                l.append(arr[i])\n",
        "            if(len(l)>0):\n",
        "                k.append(sorted(l))\n",
        "        return k"
      ],
      "execution_count": null,
      "outputs": []
    }
  ]
}