{
  "nbformat": 4,
  "nbformat_minor": 0,
  "metadata": {
    "colab": {
      "name": "Arrays.ipynb",
      "provenance": []
    },
    "kernelspec": {
      "name": "python3",
      "display_name": "Python 3"
    },
    "language_info": {
      "name": "python"
    }
  },
  "cells": [
    {
      "cell_type": "code",
      "metadata": {
        "id": "sRHFWio6hL9D"
      },
      "source": [
        "#Running sum of 1d Array\n",
        "#Solution\n",
        "class Solution:\n",
        "    def runningSum(self, nums: List[int]) -> List[int]:\n",
        "        for i in range(0,len(nums)-1):\n",
        "            nums[i+1] = nums[i]+nums[i+1]\n",
        "        return nums"
      ],
      "execution_count": null,
      "outputs": []
    },
    {
      "cell_type": "code",
      "metadata": {
        "id": "HC5uKpkYhSUa"
      },
      "source": [
        "#KIDS WITH GREATEST NUMBER OF CANDIES\n",
        "#SOLUTION\n",
        "\n",
        "class Solution:\n",
        "    def kidsWithCandies(self, candies: List[int], extraCandies: int) -> List[bool]:\n",
        "        l = max(candies)\n",
        "        for i in range(len(candies)):\n",
        "            candies[i] = candies[i]+extraCandies\n",
        "            if(candies[i]>=l):\n",
        "                candies[i] = True\n",
        "            elif(candies[i]<l):\n",
        "                candies[i] = False\n",
        "        return candies\n",
        "        "
      ],
      "execution_count": null,
      "outputs": []
    },
    {
      "cell_type": "code",
      "metadata": {
        "id": "7MUuHYqehdfv"
      },
      "source": [
        "#RICHEST CUSTOMER WEALTH\n",
        "#SOLUTION\n",
        "\n",
        "class Solution:\n",
        "    def maximumWealth(self, accounts: List[List[int]]) -> int:\n",
        "        sum1 = 0\n",
        "        wealth = 0\n",
        "        for i in range(0,len(accounts)):\n",
        "            sum1 = sum(accounts[i])\n",
        "            wealth = max(wealth,sum1)\n",
        "        return wealth\n",
        "        "
      ],
      "execution_count": null,
      "outputs": []
    },
    {
      "cell_type": "code",
      "metadata": {
        "id": "cPh8lhQEhotG"
      },
      "source": [
        "#SHUFFLE THE ARRAY\n",
        "#SOLUTION\n",
        "class Solution:\n",
        "    def shuffle(self, nums: List[int], n: int) -> List[int]:\n",
        "        a = []\n",
        "        for i in range(n):\n",
        "            a.append(nums[i])\n",
        "            a.append(nums[i+n])\n",
        "        return a"
      ],
      "execution_count": null,
      "outputs": []
    },
    {
      "cell_type": "code",
      "metadata": {
        "id": "WHBPmTk4hxFU"
      },
      "source": [
        "#NUMBER OF GOOD PAIRS\n",
        "#SOLUTION\n",
        "class Solution:\n",
        "    def numIdenticalPairs(self, nums: List[int]) -> int:\n",
        "        a = []\n",
        "        for i in range(len(nums)):\n",
        "            for j in range(i,len(nums)):\n",
        "                if(nums[i]==nums[j] and i<j):\n",
        "                    a.append([i,j])\n",
        "        return(len(a))"
      ],
      "execution_count": null,
      "outputs": []
    },
    {
      "cell_type": "code",
      "metadata": {
        "id": "FWAIs2mSh8ys"
      },
      "source": [
        "#TWO SUM\n",
        "#SOLUTION\n",
        "class Solution(object):\n",
        "    def twoSum(self, nums, target):\n",
        "        \"\"\"\n",
        "        :type nums: List[int]\n",
        "        :type target: int\n",
        "        :rtype: List[int]\n",
        "        \"\"\"\n",
        "        seen = {}\n",
        "        for index,num in enumerate(nums):\n",
        "            other = target-num\n",
        "            \n",
        "            if other in seen:\n",
        "                return[seen[other],index]\n",
        "            else:\n",
        "                seen[num]=index\n",
        "        return[]\n",
        "        \n"
      ],
      "execution_count": null,
      "outputs": []
    }
  ]
}