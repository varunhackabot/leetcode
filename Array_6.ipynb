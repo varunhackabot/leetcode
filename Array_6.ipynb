{
  "nbformat": 4,
  "nbformat_minor": 0,
  "metadata": {
    "colab": {
      "name": "Array-6.ipynb",
      "provenance": []
    },
    "kernelspec": {
      "name": "python3",
      "display_name": "Python 3"
    },
    "language_info": {
      "name": "python"
    }
  },
  "cells": [
    {
      "cell_type": "code",
      "metadata": {
        "id": "MRZedLFzwUnL"
      },
      "source": [
        "#1742. Maximum Number of Balls in a Box\n",
        "#SOLUTION\n",
        "class Solution:\n",
        "    def countBalls(self, lowLimit: int, highLimit: int) -> int:\n",
        "        a = []\n",
        "        k = 0\n",
        "        n = 0\n",
        "        b = 0\n",
        "        sum_1 = 0\n",
        "        for i in range(lowLimit,highLimit+1):\n",
        "            if(i<10):\n",
        "                a.append(i)\n",
        "            elif(i>=10):\n",
        "                n = i%10\n",
        "                sum_1+=n\n",
        "                b = i//10\n",
        "                c = n+b\n",
        "                a.append(c)\n",
        "        l = Counter(a)\n",
        "        k = max(l.values())\n",
        "        return(k)\n",
        "                \n",
        "                \n",
        "        "
      ],
      "execution_count": null,
      "outputs": []
    },
    {
      "cell_type": "code",
      "metadata": {
        "id": "ZbkyRKsBo0ie"
      },
      "source": [
        "#1051. Height Checker\n",
        "#SOLUTION\n",
        "class Solution:\n",
        "    def heightChecker(self, heights: List[int]) -> int:\n",
        "        i = 0\n",
        "        for a,b in zip(heights,sorted(heights)):\n",
        "            if(a!=b):\n",
        "                i+=1\n",
        "        return(i)   "
      ],
      "execution_count": null,
      "outputs": []
    },
    {
      "cell_type": "code",
      "metadata": {
        "id": "yhDeuPuX8J5g"
      },
      "source": [
        "#977. Squares of a Sorted Array\n",
        "#SOLUTION\n",
        "class Solution:\n",
        "    def sortedSquares(self, nums: List[int]) -> List[int]:\n",
        "        for i in range(len(nums)):\n",
        "            nums[i] = nums[i]*nums[i]\n",
        "        a = sorted(nums)\n",
        "        return(a)"
      ],
      "execution_count": null,
      "outputs": []
    },
    {
      "cell_type": "code",
      "metadata": {
        "id": "zzrLJhiD8Q1c"
      },
      "source": [
        "#1337. The K Weakest Rows in a Matrix\n",
        "#SOLUTION\n",
        "class Solution:\n",
        "    def kWeakestRows(self, mat: List[List[int]], k: int) -> List[int]:\n",
        "    return sorted(range(len(mat)), key=lambda x: sum(mat[x]))[:k]"
      ],
      "execution_count": null,
      "outputs": []
    }
  ]
}