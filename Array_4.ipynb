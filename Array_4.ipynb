{
  "nbformat": 4,
  "nbformat_minor": 0,
  "metadata": {
    "colab": {
      "name": "Array-4.ipynb",
      "provenance": []
    },
    "kernelspec": {
      "name": "python3",
      "display_name": "Python 3"
    },
    "language_info": {
      "name": "python"
    }
  },
  "cells": [
    {
      "cell_type": "code",
      "metadata": {
        "id": "MRZedLFzwUnL"
      },
      "source": [
        "#Count Negative Numbers in a Sorted Matrix\n",
        "#SOLUTION\n",
        "class Solution:\n",
        "    def countNegatives(self, grid: List[List[int]]) -> int:\n",
        "        count = 0\n",
        "        for i in range(len(grid)-1,-1,-1):\n",
        "            for j in range(len(grid[0])-1,-1,-1):\n",
        "                if(grid[i][j]<0):\n",
        "                    count+=1\n",
        "        return(count)\n",
        "                \n",
        "        "
      ],
      "execution_count": null,
      "outputs": []
    },
    {
      "cell_type": "code",
      "metadata": {
        "id": "imJJ9jOzFYLs"
      },
      "source": [
        "#Number of Students Doing Homework at a Given Time\n",
        "#SOLUTION\n",
        "class Solution:\n",
        "    def busyStudent(self, startTime: List[int], endTime: List[int], queryTime: int) -> int:\n",
        "        count = 0\n",
        "        for i in range(len(startTime)):\n",
        "            if((startTime[i]<=queryTime) and (queryTime<=endTime[i])):\n",
        "                count+=1\n",
        "        return(count)"
      ],
      "execution_count": null,
      "outputs": []
    },
    {
      "cell_type": "code",
      "metadata": {
        "id": "Rrp39iUsIoOu"
      },
      "source": [
        "#Maximum Product of Two Elements in an Array\n",
        "#SOLUTION\n",
        "class Solution:\n",
        "    def maxProduct(self, nums: List[int]) -> int:\n",
        "        a = sorted(nums,reverse=True)\n",
        "        b = a[0]-1\n",
        "        c = a[1]-1\n",
        "        return(b*c)"
      ],
      "execution_count": null,
      "outputs": []
    },
    {
      "cell_type": "code",
      "metadata": {
        "id": "1CIzCeQXMiYi"
      },
      "source": [
        "#Matrix Diagonal Sum\n",
        "#SOLUTION\n",
        "class Solution:\n",
        "    def diagonalSum(self, mat: List[List[int]]) -> int:\n",
        "        a = 0\n",
        "        n = len(mat)\n",
        "        middle = n//2\n",
        "        for i in range(n):\n",
        "            a+= mat[i][i]\n",
        "            a+=mat[n-i-1][i]\n",
        "        if(n%2==1):\n",
        "            a-=mat[middle][middle]\n",
        "        return(a)"
      ],
      "execution_count": null,
      "outputs": []
    },
    {
      "cell_type": "code",
      "metadata": {
        "id": "ul4gm4DaP6xl"
      },
      "source": [
        "#Find Numbers with Even Number of Digit\n",
        "#SOLUTION\n",
        "class Solution:\n",
        "    def findNumbers(self, nums: List[int]) -> int:\n",
        "        count = 0\n",
        "        for i in range(len(nums)):\n",
        "            n = len(str(nums[i]))\n",
        "            if(n%2==0):\n",
        "                count+=1\n",
        "        return(count)"
      ],
      "execution_count": null,
      "outputs": []
    },
    {
      "cell_type": "code",
      "metadata": {
        "id": "lLlMjyMbQ8Eb"
      },
      "source": [
        "#Find N Unique Integers Sum up to Zero\n",
        "#SOLUTION\n",
        "class Solution:\n",
        "    def sumZero(self, n: int) -> List[int]:\n",
        "        a = n//2\n",
        "        b = n%2\n",
        "        if(b!= 0):\n",
        "            d = [0]\n",
        "        else:\n",
        "            d = []\n",
        "        for i in range(1,a+1):\n",
        "            d.append(i)\n",
        "            d.append(-i)\n",
        "        return(d)"
      ],
      "execution_count": null,
      "outputs": []
    }
  ]
}