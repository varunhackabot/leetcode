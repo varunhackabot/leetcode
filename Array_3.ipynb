{
  "nbformat": 4,
  "nbformat_minor": 0,
  "metadata": {
    "colab": {
      "name": "Array-3.ipynb",
      "provenance": []
    },
    "kernelspec": {
      "name": "python3",
      "display_name": "Python 3"
    },
    "language_info": {
      "name": "python"
    }
  },
  "cells": [
    {
      "cell_type": "code",
      "metadata": {
        "id": "MRZedLFzwUnL"
      },
      "source": [
        "#MINIMUM TIME VISITING ALL POINTS\n",
        "#SOLUTION\n",
        "class Solution:\n",
        "    def minTimeToVisitAllPoints(self, points: List[List[int]]) -> int:\n",
        "        a = 0\n",
        "        for i in range(len(points)-1):\n",
        "            current = points[i]\n",
        "            nextt = points[i+1]\n",
        "            a += max(abs(nextt[0]-current[0]),abs(nextt[1]-current[1]))\n",
        "        return(a) "
      ],
      "execution_count": null,
      "outputs": []
    },
    {
      "cell_type": "code",
      "metadata": {
        "id": "YThARncswbwZ"
      },
      "source": [
        "#MINIMUM OPERATION TO MAKE ARRAY INCREASING\n",
        "#SOLUTION\n",
        "class Solution:\n",
        "    def minOperations(self, nums: List[int]) -> int:\n",
        "        a = 0\n",
        "        for i in range(1,len(nums)):\n",
        "                if(nums[i]<=nums[i-1]):\n",
        "                    b = nums[i]\n",
        "                    nums[i]+=(nums[i-1]-nums[i])+1\n",
        "                    a+=nums[i]-b\n",
        "        return(a)"
      ],
      "execution_count": null,
      "outputs": []
    },
    {
      "cell_type": "code",
      "metadata": {
        "id": "5KVsv0wKw-1I"
      },
      "source": [
        "#CELLS WITH ODD VALUES IN A MATRIX\n",
        "#SOLUTION\n",
        "class Solution:\n",
        "    def oddCells(self, m: int, n: int, indices: List[List[int]]) -> int:\n",
        "         matrix = [[0 for i in range(m)] for j in range(n)] \n",
        "        \n",
        "         def inc(x, y):\n",
        "            \n",
        "            for i in range(m):\n",
        "                matrix[x][i] += 1\n",
        "            \n",
        "            for i in range(n):\n",
        "                matrix[i][y] += 1\n",
        "                \n",
        "            for ind in indices:\n",
        "                inc(ind[0], ind[1])\n",
        "            \n",
        "            \n",
        "                return sum([0 if n % 2 == 0 else 1 for l in matrix for n in l])\n",
        "        "
      ],
      "execution_count": null,
      "outputs": []
    }
  ]
}