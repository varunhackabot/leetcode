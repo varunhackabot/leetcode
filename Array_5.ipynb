{
  "nbformat": 4,
  "nbformat_minor": 0,
  "metadata": {
    "colab": {
      "name": "Array-5.ipynb",
      "provenance": []
    },
    "kernelspec": {
      "name": "python3",
      "display_name": "Python 3"
    },
    "language_info": {
      "name": "python"
    }
  },
  "cells": [
    {
      "cell_type": "code",
      "metadata": {
        "id": "MRZedLFzwUnL"
      },
      "source": [
        "#1475. Final Prices With a Special Discount in a Shop\n",
        "#SOLUTION\n",
        "class Solution:\n",
        "    def finalPrices(self, prices: List[int]) -> List[int]:\n",
        "        n =len(prices)\n",
        "        i = 0\n",
        "        while i<=n-2:\n",
        "            for j in range(i+1,len(prices)):\n",
        "                if(prices[i]>=prices[j] and i<j):\n",
        "                    prices[i] = prices[i]-prices[j]\n",
        "                    break\n",
        "            i+=1\n",
        "        return prices\n",
        "        \n",
        "                \n",
        "        "
      ],
      "execution_count": null,
      "outputs": []
    },
    {
      "cell_type": "code",
      "metadata": {
        "id": "eAg9pLiNf7Cy"
      },
      "source": [
        "#SUM OF UNIQUE NUMBER\n",
        "#SOLUTION\n",
        "class Solution:\n",
        "    def sumOfUnique(self, nums: List[int]) -> int:\n",
        "        a = 0\n",
        "        b = Counter(nums)\n",
        "        print(b)\n",
        "        for i in b:\n",
        "            if(b[i]==1):\n",
        "                a+=i\n",
        "        return(a)\n",
        "        "
      ],
      "execution_count": null,
      "outputs": []
    },
    {
      "cell_type": "code",
      "metadata": {
        "id": "6Iu5BlQmldMU"
      },
      "source": [
        "#1299. Replace Elements with Greatest Element on Right Side\n",
        "#SOLUTION\n",
        "class Solution:\n",
        "    def replaceElements(self, arr: List[int]) -> List[int]:\n",
        "        for i in range(len(arr)-1):\n",
        "            arr[i] = max(arr[i+1:])\n",
        "        arr[-1] = -1\n",
        "        return(arr)"
      ],
      "execution_count": null,
      "outputs": []
    },
    {
      "cell_type": "code",
      "metadata": {
        "id": "ZbkyRKsBo0ie"
      },
      "source": [
        ""
      ],
      "execution_count": null,
      "outputs": []
    }
  ]
}