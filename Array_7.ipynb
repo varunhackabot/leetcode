{
  "nbformat": 4,
  "nbformat_minor": 0,
  "metadata": {
    "colab": {
      "name": "Array-7.ipynb",
      "provenance": []
    },
    "kernelspec": {
      "name": "python3",
      "display_name": "Python 3"
    },
    "language_info": {
      "name": "python"
    }
  },
  "cells": [
    {
      "cell_type": "code",
      "metadata": {
        "id": "MRZedLFzwUnL"
      },
      "source": [
        "#1502. Can Make Arithmetic Progression From Sequence\n",
        "#SOLUTION\n",
        "class Solution:\n",
        "    def canMakeArithmeticProgression(self, arr: List[int]) -> bool:\n",
        "        a = sorted(arr)\n",
        "        return(len(set([a-b for a,b in zip(a,a[1:])]))==1)\n",
        "                \n",
        "        "
      ],
      "execution_count": null,
      "outputs": []
    },
    {
      "cell_type": "code",
      "metadata": {
        "id": "V-VoJaaJnj2k"
      },
      "source": [
        "#1491. Average Salary Excluding the Minimum and Maximum Salary\n",
        "#SOLUTION\n",
        "class Solution:\n",
        "    def average(self, salary: List[int]) -> float:\n",
        "        a = sorted(salary)\n",
        "        av = 0\n",
        "        n = 0\n",
        "        for i in range(1,len(a)-1):\n",
        "            av+=a[i]\n",
        "            n+=1\n",
        "        e = av/n\n",
        "        return(float(e))"
      ],
      "execution_count": null,
      "outputs": []
    },
    {
      "cell_type": "code",
      "metadata": {
        "id": "zRfWIGBcquX6"
      },
      "source": [
        "#1380. Lucky Numbers in a Matrix\n",
        "#SOLUTION\n",
        "class Solution:\n",
        "    def luckyNumbers (self, matrix: List[List[int]]) -> List[int]:\n",
        "        minrow = set()\n",
        "        maxrow = set()\n",
        "        for i in matrix:\n",
        "            minrow.add(min(i))\n",
        "        for j in zip(*matrix):\n",
        "            maxrow.add(max(j))\n",
        "        return(minrow & maxrow)"
      ],
      "execution_count": null,
      "outputs": []
    },
    {
      "cell_type": "code",
      "metadata": {
        "id": "ASkI9B5SOlHw"
      },
      "source": [
        "#1002. Find Common Characters\n",
        "#SOLUTION\n",
        "class Solution:\n",
        "    def commonChars(self, A: List[str]) -> List[str]:\n",
        "        a = []\n",
        "        for i in set(A[0]):\n",
        "            b = []\n",
        "            for j in A:\n",
        "                b.append(j.count(i))\n",
        "            a += i*min(b)\n",
        "        return a\n",
        "            "
      ],
      "execution_count": null,
      "outputs": []
    },
    {
      "cell_type": "code",
      "metadata": {
        "id": "m0sOYvJiPSn5"
      },
      "source": [
        "#1217. Minimum Cost to Move Chips to The Same Position\n",
        "#SOLUTION\n",
        "class Solution:\n",
        "    def minCostToMoveChips(self, position: List[int]) -> int:\n",
        "        even = 0\n",
        "        odd = 0\n",
        "        for pos in position:\n",
        "            if(pos%2==0):\n",
        "                even+=1\n",
        "            if(pos%2!=0):\n",
        "                odd+=1\n",
        "        return(min(even,odd))"
      ],
      "execution_count": null,
      "outputs": []
    }
  ]
}